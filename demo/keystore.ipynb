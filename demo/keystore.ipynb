{
 "cells": [
  {
   "cell_type": "markdown",
   "metadata": {},
   "source": [
    "EOCanvas supports reading from or writing to an external storage location, such as an S3 bucket, EODATA, or the WEkEO Drive, by storing encrypted keys to the services. More information can be found in the documentation.\n",
    "\n",
    "Here we show how to create S3 and Webdav (WEkEO Drive) keys.\n",
    "\n",
    "Note that, in order to run this code, you have to setup your credentials as explained in _notebook.ipynb_"
   ]
  },
  {
   "cell_type": "code",
   "execution_count": 1,
   "metadata": {},
   "outputs": [],
   "source": [
    "# Load all the necessary classes\n",
    "from eocanvas.api import Key, WebDavKeyConfig, S3KeyConfig\n",
    "\n",
    "# Set all the required parameters to configure a specific key\n",
    "config = S3KeyConfig(\n",
    "    access_key=\"*****\",\n",
    "    secret_key=\"*****\",\n",
    "    bucket=\"my-bucket\",\n",
    "    region=\"waw3-2\",\n",
    "    endpoint=\"https://s3.waw3-2.cloudferro.com\",\n",
    ")\n",
    "\n",
    "# Note that the name must be unique. You might want to prefix your username.\n",
    "key = Key(name=\"<your-username>-s3-key\", config=config)\n",
    "\n",
    "# Calling 'create' will download the public key from EOCanvas, encrypt the configuration and\n",
    "# send it to the API.\n",
    "key.create()\n",
    "\n",
    "# Same thing for the WebDav case\n",
    "config = WebDavKeyConfig(\n",
    "    endpoint=\"https://wekeo-files.prod.wekeo2.eu/remote.php/dav/files/wso2_oidc-<your-username>\",\n",
    "    username=\"wso2_oidc-<your-username>\",\n",
    "    password=\"*****-*****-*****-*****-*****\",\n",
    ")\n",
    "key = Key(name=\"<your-username>-wekeo-key\", config=config)\n",
    "key.create()"
   ]
  },
  {
   "cell_type": "markdown",
   "metadata": {},
   "source": [
    "The Serverless API supports the following storage locations:\n",
    "\n",
    "* S3 private buckets\n",
    "* S3 public buckets\n",
    "* EODATA\n",
    "* WEkEO Drive\n",
    "\n",
    "The following table clarifies if a storage location can be used for inputs, outputs or both:\n",
    "\n",
    "| Storage location  | Suitable for inputs | Suitable for outputs |\n",
    "| :---------------- | :-----------------: | :------------------: |\n",
    "| S3 private bucket |        Yes          |          Yes         |\n",
    "| S3 public bucket  |        Yes          |          No          |\n",
    "| EODATA            |        Yes          |          No          |\n",
    "| WEkEO Drive       |        No           |          Yes         |"
   ]
  },
  {
   "cell_type": "markdown",
   "metadata": {},
   "source": [
    "Once a key has been added to the store, it can be used as an input source or an output destination, either by using it as an object or just by the name.\n",
    "\n",
    "Here is an example using a WEkEO Drive key as input:"
   ]
  },
  {
   "cell_type": "code",
   "execution_count": 3,
   "metadata": {},
   "outputs": [],
   "source": [
    "# As before, create all the required arguments to the process.\n",
    "graph = Graph.from_uri(\"olci_binding.xml\")\n",
    "config = Config(key=\"img1\", options=ConfigOption(uncompress=True, sub_path=\"xfdumanifest.xml\"))\n",
    "# Here we set an extra parameter 'keystore' and adjust the url with the path of the file\n",
    "inputs = Input(keystore=\"<your-username>-wekeo-key\", key=\"img1\", url=\"/testing-inputs/S3A_OL_2_WFR____20220626T095133_20220626T095433_20220627T215353_0179_087_022_1980_MAR_O_NT_003.SEN3.zip\")"
   ]
  },
  {
   "cell_type": "markdown",
   "metadata": {},
   "source": [
    "You can then submit and run the process as usual:"
   ]
  },
  {
   "cell_type": "code",
   "execution_count": 4,
   "metadata": {},
   "outputs": [],
   "source": [
    "process = SnapProcess(snap_graph=graph, eo_config=config, eo_input=inputs)\n",
    "process.run()"
   ]
  },
  {
   "cell_type": "markdown",
   "metadata": {},
   "source": [
    "To use a storage location as an external output, pass an 'output' parameter to the process:"
   ]
  },
  {
   "cell_type": "code",
   "execution_count": null,
   "metadata": {},
   "outputs": [],
   "source": [
    "# 'output' can be either a Key instance or simply the name\n",
    "process = SnapProcess(snap_graph=graph, eo_config=config, eo_input=inputs, output=Key(name=\"<your-username>-wekeo-key\"))\n",
    "process.run()"
   ]
  },
  {
   "cell_type": "markdown",
   "metadata": {},
   "source": [
    "In this case, when the process is completed, the final products will be available at the selected storage and the download is not performed."
   ]
  }
 ],
 "metadata": {
  "kernelspec": {
   "display_name": "eocanvas",
   "language": "python",
   "name": "python3"
  },
  "language_info": {
   "codemirror_mode": {
    "name": "ipython",
    "version": 3
   },
   "file_extension": ".py",
   "mimetype": "text/x-python",
   "name": "python",
   "nbconvert_exporter": "python",
   "pygments_lexer": "ipython3",
   "version": "3.10.13"
  }
 },
 "nbformat": 4,
 "nbformat_minor": 2
}
