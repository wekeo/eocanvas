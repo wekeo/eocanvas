{
 "cells": [
  {
   "cell_type": "markdown",
   "metadata": {},
   "source": [
    "HDA - Earthkit integration\n",
    "==========================\n",
    "\n",
    "This notebook shows a blueprint to chain WeKeo HDA, EOCanvas and Earthkit in an integrated workflow."
   ]
  },
  {
   "cell_type": "code",
   "execution_count": null,
   "metadata": {},
   "outputs": [],
   "source": [
    "from eocanvas.api import Input, Config, ConfigOption\n",
    "from eocanvas.datatailor.chain import Chain\n",
    "from eocanvas.processes import DataTailorProcess\n",
    "from hda import Client\n",
    "import earthkit.data\n"
   ]
  },
  {
   "cell_type": "markdown",
   "metadata": {},
   "source": [
    "Let's see a DataTailor example.\n",
    "The URL for the input can be retrieved by using the HDA Python client."
   ]
  },
  {
   "cell_type": "code",
   "execution_count": null,
   "metadata": {},
   "outputs": [],
   "source": [
    "c = Client()\n",
    "\n",
    "q = {\n",
    "  \"dataset_id\": \"EO:EUM:DAT:SENTINEL-3:OL_2_WFR___\",\n",
    "  \"dtstart\": \"2024-07-05T09:28:00.000Z\",\n",
    "  \"dtend\": \"2024-07-05T09:30:00.000Z\",\n",
    "  \"timeliness\": \"NT\"\n",
    "}\n",
    "\n",
    "r = c.search(q)\n",
    "url = r.get_download_urls()[0]"
   ]
  },
  {
   "cell_type": "markdown",
   "metadata": {},
   "source": [
    "We can load a Data Tailor chain from a YAML file.\n",
    "The inputs are configured using the results from the HDA request:"
   ]
  },
  {
   "cell_type": "code",
   "execution_count": null,
   "metadata": {},
   "outputs": [],
   "source": [
    "chain = Chain.from_file(\"olci_resample.yaml\")\n",
    "inputs = Input(key=\"img1\", url=url)\n",
    "\n",
    "process = DataTailorProcess(epct_chain=chain, epct_input=inputs)"
   ]
  },
  {
   "cell_type": "markdown",
   "metadata": {},
   "source": [
    "Once the process has been configured, we can submit it.\n",
    "Instead of plainly running it, we first retrieve a reference to the job (we'll need it later) and then run it with the \"download\" flag set to False."
   ]
  },
  {
   "cell_type": "code",
   "execution_count": null,
   "metadata": {},
   "outputs": [],
   "source": [
    "job = process.submit()\n",
    "process.run(job, download=False)"
   ]
  },
  {
   "cell_type": "markdown",
   "metadata": {},
   "source": [
    "Now the job is completed. We can retrieve the download URL of the first result:"
   ]
  },
  {
   "cell_type": "code",
   "execution_count": null,
   "metadata": {},
   "outputs": [],
   "source": [
    "url = job.results[0].full_url"
   ]
  },
  {
   "cell_type": "markdown",
   "metadata": {},
   "source": [
    "Finally, we use earthkit-data to load the product using a \"url\" type ofsource. \n",
    "You can see here why we needed the reference to the EOCanvas job: we use the authorization header to allow earthkit to download the data."
   ]
  },
  {
   "cell_type": "code",
   "execution_count": null,
   "metadata": {},
   "outputs": [],
   "source": [
    "data = earthkit.data.from_source(\"url\", url, http_headers=job.api.auth.header)"
   ]
  },
  {
   "cell_type": "markdown",
   "metadata": {},
   "source": [
    "And now the data are locally available and can be manipulated as needed:"
   ]
  },
  {
   "cell_type": "code",
   "execution_count": null,
   "metadata": {},
   "outputs": [],
   "source": [
    "data.to_xarray()"
   ]
  }
 ],
 "metadata": {
  "kernelspec": {
   "display_name": "eocanvas",
   "language": "python",
   "name": "python3"
  },
  "language_info": {
   "codemirror_mode": {
    "name": "ipython",
    "version": 3
   },
   "file_extension": ".py",
   "mimetype": "text/x-python",
   "name": "python",
   "nbconvert_exporter": "python",
   "pygments_lexer": "ipython3",
   "version": "3.10.13"
  }
 },
 "nbformat": 4,
 "nbformat_minor": 2
}
